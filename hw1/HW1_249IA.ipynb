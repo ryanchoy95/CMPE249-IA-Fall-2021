{
  "nbformat": 4,
  "nbformat_minor": 0,
  "metadata": {
    "colab": {
      "name": "HW1_249IA.ipynb",
      "provenance": [],
      "authorship_tag": "ABX9TyPQfdQRBRjDczEdvBVz9HfO"
    },
    "kernelspec": {
      "name": "python3",
      "display_name": "Python 3"
    },
    "language_info": {
      "name": "python"
    },
    "accelerator": "GPU"
  },
  "cells": [
    {
      "cell_type": "code",
      "metadata": {
        "colab": {
          "base_uri": "https://localhost:8080/"
        },
        "id": "2FylJ76otdwo",
        "outputId": "813d9024-9a3c-4a73-e135-d3a4f072786c"
      },
      "source": [
        "! pip install kaggle"
      ],
      "execution_count": null,
      "outputs": [
        {
          "output_type": "stream",
          "name": "stdout",
          "text": [
            "Requirement already satisfied: kaggle in /usr/local/lib/python3.7/dist-packages (1.5.12)\n",
            "Requirement already satisfied: python-slugify in /usr/local/lib/python3.7/dist-packages (from kaggle) (5.0.2)\n",
            "Requirement already satisfied: urllib3 in /usr/local/lib/python3.7/dist-packages (from kaggle) (1.24.3)\n",
            "Requirement already satisfied: requests in /usr/local/lib/python3.7/dist-packages (from kaggle) (2.23.0)\n",
            "Requirement already satisfied: tqdm in /usr/local/lib/python3.7/dist-packages (from kaggle) (4.62.3)\n",
            "Requirement already satisfied: python-dateutil in /usr/local/lib/python3.7/dist-packages (from kaggle) (2.8.2)\n",
            "Requirement already satisfied: certifi in /usr/local/lib/python3.7/dist-packages (from kaggle) (2021.5.30)\n",
            "Requirement already satisfied: six>=1.10 in /usr/local/lib/python3.7/dist-packages (from kaggle) (1.15.0)\n",
            "Requirement already satisfied: text-unidecode>=1.3 in /usr/local/lib/python3.7/dist-packages (from python-slugify->kaggle) (1.3)\n",
            "Requirement already satisfied: chardet<4,>=3.0.2 in /usr/local/lib/python3.7/dist-packages (from requests->kaggle) (3.0.4)\n",
            "Requirement already satisfied: idna<3,>=2.5 in /usr/local/lib/python3.7/dist-packages (from requests->kaggle) (2.10)\n"
          ]
        }
      ]
    },
    {
      "cell_type": "code",
      "metadata": {
        "colab": {
          "base_uri": "https://localhost:8080/"
        },
        "id": "pRu0jk90tokk",
        "outputId": "1bff76ec-4802-44e8-a0f4-51a19a6fb650"
      },
      "source": [
        "! mkdir ~/.kaggle"
      ],
      "execution_count": null,
      "outputs": [
        {
          "output_type": "stream",
          "name": "stdout",
          "text": [
            "mkdir: cannot create directory ‘/root/.kaggle’: File exists\n"
          ]
        }
      ]
    },
    {
      "cell_type": "code",
      "metadata": {
        "id": "BXXQJkMAtoc8"
      },
      "source": [
        "! cp kaggle.json ~/.kaggle/"
      ],
      "execution_count": null,
      "outputs": []
    },
    {
      "cell_type": "code",
      "metadata": {
        "id": "1sp0oUOPtoLE"
      },
      "source": [
        "! chmod 600 ~/.kaggle/kaggle.json"
      ],
      "execution_count": null,
      "outputs": []
    },
    {
      "cell_type": "code",
      "metadata": {
        "colab": {
          "base_uri": "https://localhost:8080/"
        },
        "id": "GTtuiK3wtn_0",
        "outputId": "86e4c3d5-145a-42f1-c6c3-505f275b09cc"
      },
      "source": [
        "!kaggle datasets download -d jutrera/stanford-car-dataset-by-classes-folder"
      ],
      "execution_count": null,
      "outputs": [
        {
          "output_type": "stream",
          "name": "stdout",
          "text": [
            "Downloading stanford-car-dataset-by-classes-folder.zip to /content\n",
            " 99% 1.82G/1.83G [00:15<00:00, 137MB/s]\n",
            "100% 1.83G/1.83G [00:15<00:00, 125MB/s]\n"
          ]
        }
      ]
    },
    {
      "cell_type": "code",
      "metadata": {
        "id": "_GIXAlBlulHt"
      },
      "source": [
        "!unzip stanford-car-dataset-by-classes-folder.zip"
      ],
      "execution_count": null,
      "outputs": []
    },
    {
      "cell_type": "code",
      "metadata": {
        "id": "8PfpOUhru1te"
      },
      "source": [
        "import numpy as np\n",
        "import pandas as pd\n",
        "import matplotlib.pyplot as plt\n",
        "import tensorflow as tf\n",
        "import os \n",
        "import cv2\n",
        "from tensorflow import keras\n",
        "from PIL import Image\n",
        "from sklearn.model_selection import train_test_split\n",
        "from tensorflow.keras.models import Model\n",
        "from tensorflow.keras.layers import Dense, Flatten, Conv2D, MaxPool2D, GlobalAveragePooling2D, BatchNormalization, Dropout\n",
        "from tensorflow.keras.preprocessing.image import ImageDataGenerator\n",
        "from tensorflow.keras.applications.resnet import ResNet50\n",
        "from tensorflow.keras.optimizers import Adam\n",
        "from sklearn.metrics import accuracy_score\n",
        "from tensorflow.keras import layers\n",
        "from tensorflow.keras.models import Sequential\n",
        "from IPython.display import Image, display\n",
        "from tensorflow.keras.preprocessing import image_dataset_from_directory"
      ],
      "execution_count": 3,
      "outputs": []
    },
    {
      "cell_type": "code",
      "metadata": {
        "colab": {
          "base_uri": "https://localhost:8080/",
          "height": 36
        },
        "id": "X-jL1rwou8s3",
        "outputId": "38017722-b38f-4458-ca25-8371904a6130"
      },
      "source": [
        "train_path = \"/car_data/car_data/train\"\n",
        "test_path = \"/car_data/car_data/train\"\n",
        "train_path"
      ],
      "execution_count": 4,
      "outputs": [
        {
          "output_type": "execute_result",
          "data": {
            "application/vnd.google.colaboratory.intrinsic+json": {
              "type": "string"
            },
            "text/plain": [
              "'/car_data/car_data/train'"
            ]
          },
          "metadata": {},
          "execution_count": 4
        }
      ]
    },
    {
      "cell_type": "code",
      "metadata": {
        "colab": {
          "base_uri": "https://localhost:8080/"
        },
        "id": "ljgr9ok7u8ql",
        "outputId": "d1776cd5-1e47-429e-b397-68f8b3aed8d2"
      },
      "source": [
        "import pathlib\n",
        "data_dir = pathlib.Path('./car_data/car_data/train')\n",
        "\n",
        "image_count = len(list(data_dir.glob('*/*.jpg')))\n",
        "image_count"
      ],
      "execution_count": 5,
      "outputs": [
        {
          "output_type": "execute_result",
          "data": {
            "text/plain": [
              "8144"
            ]
          },
          "metadata": {},
          "execution_count": 5
        }
      ]
    },
    {
      "cell_type": "code",
      "metadata": {
        "id": "UKTs5ppMu8oq"
      },
      "source": [
        "ClassNames = pd.read_csv(\"./names.csv\")"
      ],
      "execution_count": 6,
      "outputs": []
    },
    {
      "cell_type": "code",
      "metadata": {
        "id": "UM5zQQnMu8mW"
      },
      "source": [
        "path = pathlib.Path('./car_data/car_data/train')\n",
        "Bent = list(data_dir.glob('Bentley Arnage Sedan 2009/*'))\n",
        "\n",
        "for image_path in Bent[:5]:\n",
        "    display(Image(str(image_path)))"
      ],
      "execution_count": null,
      "outputs": []
    },
    {
      "cell_type": "code",
      "metadata": {
        "id": "IpeMqQKSu8g9"
      },
      "source": [
        "IMAGE_SIZE = 224\n",
        "BATCH_SIZE = 64\n",
        "dataset_dir = './car_data/car_data/train' #base_directory having training data set"
      ],
      "execution_count": 9,
      "outputs": []
    },
    {
      "cell_type": "code",
      "metadata": {
        "colab": {
          "base_uri": "https://localhost:8080/"
        },
        "id": "nXmM_NJTu8ec",
        "outputId": "7107c283-3154-46c9-bb30-8b5f7da39591"
      },
      "source": [
        "train_dataset = tf.keras.preprocessing.image_dataset_from_directory(\n",
        "  dataset_dir,\n",
        "  labels=\"inferred\",\n",
        "  label_mode=\"categorical\",\n",
        "  class_names=None,\n",
        "  color_mode=\"rgb\",\n",
        "  batch_size=BATCH_SIZE,\n",
        "  image_size=(IMAGE_SIZE,IMAGE_SIZE),\n",
        "  seed=123,\n",
        "  validation_split=0.2,\n",
        "  subset=\"training\",\n",
        "  )"
      ],
      "execution_count": 10,
      "outputs": [
        {
          "output_type": "stream",
          "name": "stdout",
          "text": [
            "Found 8144 files belonging to 196 classes.\n",
            "Using 6516 files for training.\n"
          ]
        }
      ]
    },
    {
      "cell_type": "code",
      "metadata": {
        "colab": {
          "base_uri": "https://localhost:8080/"
        },
        "id": "a825XCROu8Xr",
        "outputId": "501efc17-ff3d-46ad-bd91-969101743084"
      },
      "source": [
        "val_dataset = tf.keras.preprocessing.image_dataset_from_directory(\n",
        "  dataset_dir,\n",
        "  labels=\"inferred\",\n",
        "  label_mode=\"categorical\",\n",
        "  class_names=None,\n",
        "  color_mode=\"rgb\",\n",
        "  batch_size=BATCH_SIZE,\n",
        "  image_size=(IMAGE_SIZE,IMAGE_SIZE),\n",
        "  seed=123,\n",
        "  validation_split=0.2,\n",
        "  subset=\"validation\",\n",
        "  )"
      ],
      "execution_count": 11,
      "outputs": [
        {
          "output_type": "stream",
          "name": "stdout",
          "text": [
            "Found 8144 files belonging to 196 classes.\n",
            "Using 1628 files for validation.\n"
          ]
        }
      ]
    },
    {
      "cell_type": "code",
      "metadata": {
        "colab": {
          "base_uri": "https://localhost:8080/"
        },
        "id": "P280aPeau8OV",
        "outputId": "82227571-2db9-4f06-ddb4-50765ec0279d"
      },
      "source": [
        "image_batch_train, label_batch_train = next(iter(train_dataset))\n",
        "print(\"Image batch shape: \", image_batch_train.shape)\n",
        "print(\"Label batch shape: \", label_batch_train.shape)"
      ],
      "execution_count": 12,
      "outputs": [
        {
          "output_type": "stream",
          "name": "stdout",
          "text": [
            "Image batch shape:  (64, 224, 224, 3)\n",
            "Label batch shape:  (64, 196)\n"
          ]
        }
      ]
    },
    {
      "cell_type": "code",
      "metadata": {
        "id": "okWkS3Ogxi9m"
      },
      "source": [
        "CLASS_NAMES = np.array([item.name for item in data_dir.glob('*')])"
      ],
      "execution_count": null,
      "outputs": []
    },
    {
      "cell_type": "code",
      "metadata": {
        "colab": {
          "base_uri": "https://localhost:8080/"
        },
        "id": "MPD7GVKKxiyt",
        "outputId": "9f15a5ac-7b0a-43f3-b1e9-a2f270e79197"
      },
      "source": [
        "normalization_layer = tf.keras.layers.experimental.preprocessing.Rescaling(1./255)\n",
        "normalized_ds = train_dataset.map(lambda x, y: (normalization_layer(x), y))\n",
        "image_batch, labels_batch = next(iter(normalized_ds))\n",
        "first_image = image_batch[0]\n",
        "# The pixels values are now in `[0,1]`.\n",
        "print(np.min(first_image), np.max(first_image))"
      ],
      "execution_count": 36,
      "outputs": [
        {
          "output_type": "stream",
          "name": "stdout",
          "text": [
            "0.0 1.0\n"
          ]
        }
      ]
    },
    {
      "cell_type": "code",
      "metadata": {
        "id": "_l1_80-Gxiwf"
      },
      "source": [
        "AUTOTUNE = tf.data.experimental.AUTOTUNE\n",
        "train_dataset = train_dataset.cache().prefetch(buffer_size=AUTOTUNE)\n",
        "val_dataset = val_dataset.cache().prefetch(buffer_size=AUTOTUNE)"
      ],
      "execution_count": 18,
      "outputs": []
    },
    {
      "cell_type": "code",
      "metadata": {
        "colab": {
          "base_uri": "https://localhost:8080/"
        },
        "id": "M27yttrjxiok",
        "outputId": "090bb0e1-c803-4e23-a21d-eafc979fc057"
      },
      "source": [
        "from tensorflow.keras import layers\n",
        "from tensorflow.keras import models\n",
        "from tensorflow.keras import optimizers\n",
        "numclasses= len(CLASS_NAMES)\n",
        "\n",
        "model = models.Sequential()\n",
        "model.add(layers.Conv2D(32, (3, 3), activation='relu', input_shape=(IMAGE_SIZE, IMAGE_SIZE, 3)))\n",
        "model.add(layers.MaxPooling2D((2, 2)))\n",
        "model.add(layers.Conv2D(64, (3, 3), activation='relu'))\n",
        "model.add(layers.MaxPooling2D((2, 2)))\n",
        "model.add(layers.Conv2D(128, (3, 3), activation='relu'))\n",
        "model.add(layers.MaxPooling2D((2, 2)))\n",
        "model.add(layers.Conv2D(128, (3, 3), activation='relu'))\n",
        "model.add(layers.MaxPooling2D((2, 2)))\n",
        "model.add(layers.Flatten())\n",
        "model.add(layers.Dense(512, activation='relu'))\n",
        "model.add(layers.Dense(numclasses, activation='softmax'))\n",
        "\n",
        "model.compile(loss='categorical_crossentropy',\n",
        "              optimizer=optimizers.RMSprop(lr=1e-4),\n",
        "              metrics=['acc'])"
      ],
      "execution_count": 37,
      "outputs": [
        {
          "output_type": "stream",
          "name": "stderr",
          "text": [
            "/usr/local/lib/python3.7/dist-packages/keras/optimizer_v2/optimizer_v2.py:356: UserWarning: The `lr` argument is deprecated, use `learning_rate` instead.\n",
            "  \"The `lr` argument is deprecated, use `learning_rate` instead.\")\n"
          ]
        }
      ]
    },
    {
      "cell_type": "code",
      "metadata": {
        "colab": {
          "base_uri": "https://localhost:8080/"
        },
        "id": "ntkfDCfYy_11",
        "outputId": "6392cf29-b015-4ff7-b833-859382a3adcc"
      },
      "source": [
        "history = model.fit(\n",
        "      train_dataset,\n",
        "      #steps_per_epoch=steps_per_epoch,\n",
        "      epochs=50,\n",
        "      validation_data=val_dataset)\n",
        "      #validation_steps=val_steps_per_epoch)"
      ],
      "execution_count": 39,
      "outputs": [
        {
          "output_type": "stream",
          "name": "stdout",
          "text": [
            "Epoch 1/50\n",
            "102/102 [==============================] - 20s 191ms/step - loss: 3.9490 - acc: 0.2075 - val_loss: 5.4310 - val_acc: 0.0092\n",
            "Epoch 2/50\n",
            "102/102 [==============================] - 20s 192ms/step - loss: 2.2934 - acc: 0.5173 - val_loss: 6.0366 - val_acc: 0.0166\n",
            "Epoch 3/50\n",
            "102/102 [==============================] - 20s 191ms/step - loss: 1.0250 - acc: 0.7747 - val_loss: 7.2587 - val_acc: 0.0203\n",
            "Epoch 4/50\n",
            "102/102 [==============================] - 20s 192ms/step - loss: 0.3957 - acc: 0.9167 - val_loss: 9.0202 - val_acc: 0.0227\n",
            "Epoch 5/50\n",
            "102/102 [==============================] - 20s 192ms/step - loss: 0.2167 - acc: 0.9552 - val_loss: 10.6728 - val_acc: 0.0154\n",
            "Epoch 6/50\n",
            "102/102 [==============================] - 19s 191ms/step - loss: 0.1396 - acc: 0.9704 - val_loss: 12.2833 - val_acc: 0.0166\n",
            "Epoch 7/50\n",
            "102/102 [==============================] - 20s 192ms/step - loss: 0.1042 - acc: 0.9768 - val_loss: 11.7648 - val_acc: 0.0240\n",
            "Epoch 8/50\n",
            "102/102 [==============================] - 19s 191ms/step - loss: 0.0952 - acc: 0.9800 - val_loss: 11.8452 - val_acc: 0.0246\n",
            "Epoch 9/50\n",
            "102/102 [==============================] - 20s 192ms/step - loss: 0.0787 - acc: 0.9830 - val_loss: 12.4158 - val_acc: 0.0276\n",
            "Epoch 10/50\n",
            "102/102 [==============================] - 19s 191ms/step - loss: 0.0838 - acc: 0.9827 - val_loss: 12.2205 - val_acc: 0.0283\n",
            "Epoch 11/50\n",
            "102/102 [==============================] - 20s 192ms/step - loss: 0.0626 - acc: 0.9870 - val_loss: 12.1374 - val_acc: 0.0240\n",
            "Epoch 12/50\n",
            "102/102 [==============================] - 20s 192ms/step - loss: 0.0743 - acc: 0.9876 - val_loss: 12.8030 - val_acc: 0.0233\n",
            "Epoch 13/50\n",
            "102/102 [==============================] - 19s 191ms/step - loss: 0.0518 - acc: 0.9890 - val_loss: 13.1605 - val_acc: 0.0252\n",
            "Epoch 14/50\n",
            "102/102 [==============================] - 20s 192ms/step - loss: 0.0544 - acc: 0.9896 - val_loss: 13.8991 - val_acc: 0.0221\n",
            "Epoch 15/50\n",
            "102/102 [==============================] - 20s 192ms/step - loss: 0.0436 - acc: 0.9908 - val_loss: 14.2489 - val_acc: 0.0276\n",
            "Epoch 16/50\n",
            "102/102 [==============================] - 20s 192ms/step - loss: 0.0383 - acc: 0.9931 - val_loss: 14.4848 - val_acc: 0.0264\n",
            "Epoch 17/50\n",
            "102/102 [==============================] - 20s 193ms/step - loss: 0.0479 - acc: 0.9922 - val_loss: 14.5429 - val_acc: 0.0252\n",
            "Epoch 18/50\n",
            "102/102 [==============================] - 20s 192ms/step - loss: 0.0551 - acc: 0.9917 - val_loss: 15.1538 - val_acc: 0.0283\n",
            "Epoch 19/50\n",
            "102/102 [==============================] - 20s 191ms/step - loss: 0.0530 - acc: 0.9909 - val_loss: 15.1110 - val_acc: 0.0233\n",
            "Epoch 20/50\n",
            "102/102 [==============================] - 20s 191ms/step - loss: 0.0392 - acc: 0.9929 - val_loss: 15.2692 - val_acc: 0.0227\n",
            "Epoch 21/50\n",
            "102/102 [==============================] - 20s 192ms/step - loss: 0.0502 - acc: 0.9919 - val_loss: 14.7074 - val_acc: 0.0215\n",
            "Epoch 22/50\n",
            "102/102 [==============================] - 20s 192ms/step - loss: 0.0651 - acc: 0.9905 - val_loss: 14.6224 - val_acc: 0.0209\n",
            "Epoch 23/50\n",
            "102/102 [==============================] - 19s 191ms/step - loss: 0.0660 - acc: 0.9934 - val_loss: 14.5291 - val_acc: 0.0289\n",
            "Epoch 24/50\n",
            "102/102 [==============================] - 20s 191ms/step - loss: 0.0609 - acc: 0.9911 - val_loss: 16.8688 - val_acc: 0.0166\n",
            "Epoch 25/50\n",
            "102/102 [==============================] - 19s 191ms/step - loss: 0.0651 - acc: 0.9900 - val_loss: 16.2687 - val_acc: 0.0240\n",
            "Epoch 26/50\n",
            "102/102 [==============================] - 20s 191ms/step - loss: 0.0426 - acc: 0.9925 - val_loss: 15.4288 - val_acc: 0.0270\n",
            "Epoch 27/50\n",
            "102/102 [==============================] - 20s 192ms/step - loss: 0.0655 - acc: 0.9919 - val_loss: 17.1693 - val_acc: 0.0276\n",
            "Epoch 28/50\n",
            "102/102 [==============================] - 19s 191ms/step - loss: 0.0556 - acc: 0.9919 - val_loss: 16.6880 - val_acc: 0.0264\n",
            "Epoch 29/50\n",
            "102/102 [==============================] - 20s 191ms/step - loss: 0.0517 - acc: 0.9900 - val_loss: 16.9884 - val_acc: 0.0289\n",
            "Epoch 30/50\n",
            "102/102 [==============================] - 19s 191ms/step - loss: 0.0606 - acc: 0.9893 - val_loss: 16.3283 - val_acc: 0.0295\n",
            "Epoch 31/50\n",
            "102/102 [==============================] - 19s 191ms/step - loss: 0.0406 - acc: 0.9945 - val_loss: 17.0675 - val_acc: 0.0307\n",
            "Epoch 32/50\n",
            "102/102 [==============================] - 19s 191ms/step - loss: 0.0540 - acc: 0.9934 - val_loss: 16.3361 - val_acc: 0.0295\n",
            "Epoch 33/50\n",
            "102/102 [==============================] - 19s 191ms/step - loss: 0.0530 - acc: 0.9931 - val_loss: 17.2448 - val_acc: 0.0258\n",
            "Epoch 34/50\n",
            "102/102 [==============================] - 19s 191ms/step - loss: 0.0949 - acc: 0.9900 - val_loss: 18.0524 - val_acc: 0.0270\n",
            "Epoch 35/50\n",
            "102/102 [==============================] - 20s 192ms/step - loss: 0.0574 - acc: 0.9917 - val_loss: 20.4221 - val_acc: 0.0295\n",
            "Epoch 36/50\n",
            "102/102 [==============================] - 19s 191ms/step - loss: 0.0407 - acc: 0.9955 - val_loss: 18.5418 - val_acc: 0.0289\n",
            "Epoch 37/50\n",
            "102/102 [==============================] - 20s 192ms/step - loss: 0.0488 - acc: 0.9925 - val_loss: 17.0486 - val_acc: 0.0295\n",
            "Epoch 38/50\n",
            "102/102 [==============================] - 19s 191ms/step - loss: 0.0586 - acc: 0.9939 - val_loss: 17.0359 - val_acc: 0.0295\n",
            "Epoch 39/50\n",
            "102/102 [==============================] - 20s 191ms/step - loss: 0.0415 - acc: 0.9960 - val_loss: 16.5207 - val_acc: 0.0326\n",
            "Epoch 40/50\n",
            "102/102 [==============================] - 19s 191ms/step - loss: 0.0540 - acc: 0.9917 - val_loss: 17.7357 - val_acc: 0.0295\n",
            "Epoch 41/50\n",
            "102/102 [==============================] - 20s 192ms/step - loss: 0.0524 - acc: 0.9936 - val_loss: 16.6995 - val_acc: 0.0258\n",
            "Epoch 42/50\n",
            "102/102 [==============================] - 20s 191ms/step - loss: 0.0455 - acc: 0.9936 - val_loss: 18.9273 - val_acc: 0.0350\n",
            "Epoch 43/50\n",
            "102/102 [==============================] - 20s 191ms/step - loss: 0.0256 - acc: 0.9949 - val_loss: 18.5371 - val_acc: 0.0276\n",
            "Epoch 44/50\n",
            "102/102 [==============================] - 19s 191ms/step - loss: 0.0400 - acc: 0.9960 - val_loss: 16.0548 - val_acc: 0.0307\n",
            "Epoch 45/50\n",
            "102/102 [==============================] - 20s 192ms/step - loss: 0.0491 - acc: 0.9948 - val_loss: 17.4007 - val_acc: 0.0289\n",
            "Epoch 46/50\n",
            "102/102 [==============================] - 19s 191ms/step - loss: 0.0324 - acc: 0.9952 - val_loss: 17.2663 - val_acc: 0.0295\n",
            "Epoch 47/50\n",
            "102/102 [==============================] - 20s 192ms/step - loss: 0.0345 - acc: 0.9969 - val_loss: 16.6614 - val_acc: 0.0332\n",
            "Epoch 48/50\n",
            "102/102 [==============================] - 19s 191ms/step - loss: 0.0246 - acc: 0.9957 - val_loss: 18.2657 - val_acc: 0.0313\n",
            "Epoch 49/50\n",
            "102/102 [==============================] - 19s 191ms/step - loss: 0.0351 - acc: 0.9960 - val_loss: 19.7697 - val_acc: 0.0258\n",
            "Epoch 50/50\n",
            "102/102 [==============================] - 19s 191ms/step - loss: 0.0363 - acc: 0.9968 - val_loss: 18.1159 - val_acc: 0.0307\n"
          ]
        }
      ]
    },
    {
      "cell_type": "code",
      "metadata": {
        "colab": {
          "base_uri": "https://localhost:8080/",
          "height": 513
        },
        "id": "roX3e6eZ8tLR",
        "outputId": "744804b6-2be4-4ac9-8093-4eaeb0688dc1"
      },
      "source": [
        "acc = history.history['acc']\n",
        "val_acc = history.history['val_acc']\n",
        "\n",
        "loss = history.history['loss']\n",
        "val_loss = history.history['val_loss']\n",
        "\n",
        "plt.figure(figsize=(8, 8))\n",
        "plt.subplot(2, 1, 1)\n",
        "plt.plot(acc, label='Training Accuracy')\n",
        "plt.plot(val_acc, label='Validation Accuracy')\n",
        "plt.legend(loc='lower right')\n",
        "plt.ylabel('Accuracy')\n",
        "plt.title('Training and Validation Accuracy')\n",
        "\n",
        "plt.subplot(2, 1, 2)\n",
        "plt.plot(loss, label='Training Loss')\n",
        "plt.plot(val_loss, label='Validation Loss')\n",
        "plt.legend(loc='upper right')\n",
        "plt.ylabel('Cross Entropy')\n",
        "plt.title('Training and Validation Loss')\n",
        "plt.xlabel('epoch')\n",
        "plt.show()"
      ],
      "execution_count": 41,
      "outputs": [
        {
          "output_type": "display_data",
          "data": {
            "image/png": "[encoded data removed]",
            "text/plain": [
              "<Figure size 576x576 with 2 Axes>"
            ]
          },
          "metadata": {
            "needs_background": "light"
          }
        }
      ]
    },
    {
      "cell_type": "code",
      "metadata": {
        "id": "sEnqlQhOy_v8",
        "colab": {
          "base_uri": "https://localhost:8080/"
        },
        "outputId": "47f100cc-a360-4d63-f5f6-42ce7faa6307"
      },
      "source": [
        "from tensorflow.keras import layers\n",
        "from tensorflow.keras import models\n",
        "from tensorflow.keras import optimizers\n",
        "from keras.layers import Dropout\n",
        "numclasses= len(CLASS_NAMES)\n",
        "\n",
        "model = models.Sequential()\n",
        "model.add(layers.Conv2D(32, (3, 3), activation='relu', input_shape=(IMAGE_SIZE, IMAGE_SIZE, 3)))\n",
        "model.add(layers.MaxPooling2D((2, 2)))\n",
        "model.add(layers.Conv2D(64, (3, 3), activation='relu'))\n",
        "model.add(layers.MaxPooling2D((2, 2)))\n",
        "model.add(layers.Conv2D(128, (3, 3), activation='relu'))\n",
        "model.add(layers.MaxPooling2D((2, 2)))\n",
        "model.add(Dropout(0.2))\n",
        "model.add(layers.Conv2D(128, (3, 3), activation='relu'))\n",
        "model.add(layers.MaxPooling2D((2, 2)))\n",
        "model.add(Dropout(0.2))\n",
        "model.add(layers.Flatten())\n",
        "model.add(layers.Dense(512, activation='relu'))\n",
        "model.add(layers.Dense(numclasses, activation='softmax'))\n",
        "\n",
        "model.compile(loss='categorical_crossentropy',\n",
        "              optimizer=optimizers.RMSprop(lr=1e-4),\n",
        "              metrics=['acc'])"
      ],
      "execution_count": 48,
      "outputs": [
        {
          "output_type": "stream",
          "name": "stderr",
          "text": [
            "/usr/local/lib/python3.7/dist-packages/keras/optimizer_v2/optimizer_v2.py:356: UserWarning: The `lr` argument is deprecated, use `learning_rate` instead.\n",
            "  \"The `lr` argument is deprecated, use `learning_rate` instead.\")\n"
          ]
        }
      ]
    },
    {
      "cell_type": "code",
      "metadata": {
        "colab": {
          "base_uri": "https://localhost:8080/"
        },
        "id": "aPc59zGP7MC2",
        "outputId": "9501eb32-4e8d-467d-d9a5-70020aade875"
      },
      "source": [
        "history = model.fit(\n",
        "      train_dataset,\n",
        "      #steps_per_epoch=steps_per_epoch,\n",
        "      epochs=50,\n",
        "      validation_data=val_dataset)\n",
        "      #validation_steps=val_steps_per_epoch)"
      ],
      "execution_count": 49,
      "outputs": [
        {
          "output_type": "stream",
          "name": "stdout",
          "text": [
            "Epoch 1/50\n",
            "102/102 [==============================] - 21s 195ms/step - loss: 8.7885 - acc: 0.0080 - val_loss: 5.2674 - val_acc: 0.0049\n",
            "Epoch 2/50\n",
            "102/102 [==============================] - 20s 193ms/step - loss: 5.2359 - acc: 0.0112 - val_loss: 5.2269 - val_acc: 0.0111\n",
            "Epoch 3/50\n",
            "102/102 [==============================] - 20s 193ms/step - loss: 5.0900 - acc: 0.0258 - val_loss: 5.1979 - val_acc: 0.0147\n",
            "Epoch 4/50\n",
            "102/102 [==============================] - 20s 193ms/step - loss: 4.7750 - acc: 0.0623 - val_loss: 5.2253 - val_acc: 0.0166\n",
            "Epoch 5/50\n",
            "102/102 [==============================] - 20s 193ms/step - loss: 4.2437 - acc: 0.1306 - val_loss: 5.3149 - val_acc: 0.0270\n",
            "Epoch 6/50\n",
            "102/102 [==============================] - 20s 194ms/step - loss: 3.4773 - acc: 0.2514 - val_loss: 5.6616 - val_acc: 0.0307\n",
            "Epoch 7/50\n",
            "102/102 [==============================] - 20s 194ms/step - loss: 2.5762 - acc: 0.4138 - val_loss: 6.0595 - val_acc: 0.0338\n",
            "Epoch 8/50\n",
            "102/102 [==============================] - 20s 194ms/step - loss: 1.7156 - acc: 0.5866 - val_loss: 6.8760 - val_acc: 0.0350\n",
            "Epoch 9/50\n",
            "102/102 [==============================] - 20s 193ms/step - loss: 1.0703 - acc: 0.7330 - val_loss: 7.5149 - val_acc: 0.0326\n",
            "Epoch 10/50\n",
            "102/102 [==============================] - 20s 193ms/step - loss: 0.6278 - acc: 0.8381 - val_loss: 8.2604 - val_acc: 0.0369\n",
            "Epoch 11/50\n",
            "102/102 [==============================] - 20s 193ms/step - loss: 0.3965 - acc: 0.8992 - val_loss: 8.6808 - val_acc: 0.0375\n",
            "Epoch 12/50\n",
            "102/102 [==============================] - 20s 193ms/step - loss: 0.2716 - acc: 0.9337 - val_loss: 9.1373 - val_acc: 0.0362\n",
            "Epoch 13/50\n",
            "102/102 [==============================] - 20s 193ms/step - loss: 0.2056 - acc: 0.9489 - val_loss: 9.5116 - val_acc: 0.0344\n",
            "Epoch 14/50\n",
            "102/102 [==============================] - 20s 194ms/step - loss: 0.1544 - acc: 0.9627 - val_loss: 9.3748 - val_acc: 0.0381\n",
            "Epoch 15/50\n",
            "102/102 [==============================] - 20s 193ms/step - loss: 0.1352 - acc: 0.9662 - val_loss: 10.2335 - val_acc: 0.0467\n",
            "Epoch 16/50\n",
            "102/102 [==============================] - 20s 193ms/step - loss: 0.1080 - acc: 0.9731 - val_loss: 10.0334 - val_acc: 0.0448\n",
            "Epoch 17/50\n",
            "102/102 [==============================] - 20s 194ms/step - loss: 0.0931 - acc: 0.9774 - val_loss: 10.2942 - val_acc: 0.0467\n",
            "Epoch 18/50\n",
            "102/102 [==============================] - 20s 193ms/step - loss: 0.0718 - acc: 0.9828 - val_loss: 10.4868 - val_acc: 0.0399\n",
            "Epoch 19/50\n",
            "102/102 [==============================] - 20s 193ms/step - loss: 0.0793 - acc: 0.9813 - val_loss: 10.9088 - val_acc: 0.0418\n",
            "Epoch 20/50\n",
            "102/102 [==============================] - 20s 193ms/step - loss: 0.0692 - acc: 0.9842 - val_loss: 11.2921 - val_acc: 0.0399\n",
            "Epoch 21/50\n",
            "102/102 [==============================] - 20s 194ms/step - loss: 0.0635 - acc: 0.9876 - val_loss: 11.0685 - val_acc: 0.0387\n",
            "Epoch 22/50\n",
            "102/102 [==============================] - 20s 193ms/step - loss: 0.0569 - acc: 0.9874 - val_loss: 11.4008 - val_acc: 0.0461\n",
            "Epoch 23/50\n",
            "102/102 [==============================] - 20s 194ms/step - loss: 0.0662 - acc: 0.9888 - val_loss: 11.6015 - val_acc: 0.0418\n",
            "Epoch 24/50\n",
            "102/102 [==============================] - 20s 193ms/step - loss: 0.0565 - acc: 0.9873 - val_loss: 11.5851 - val_acc: 0.0405\n",
            "Epoch 25/50\n",
            "102/102 [==============================] - 21s 205ms/step - loss: 0.0518 - acc: 0.9902 - val_loss: 11.7961 - val_acc: 0.0473\n",
            "Epoch 26/50\n",
            "102/102 [==============================] - 20s 194ms/step - loss: 0.0411 - acc: 0.9909 - val_loss: 11.5475 - val_acc: 0.0430\n",
            "Epoch 27/50\n",
            "102/102 [==============================] - 20s 194ms/step - loss: 0.0482 - acc: 0.9916 - val_loss: 11.4296 - val_acc: 0.0393\n",
            "Epoch 28/50\n",
            "102/102 [==============================] - 20s 194ms/step - loss: 0.0460 - acc: 0.9913 - val_loss: 12.2979 - val_acc: 0.0381\n",
            "Epoch 29/50\n",
            "102/102 [==============================] - 20s 193ms/step - loss: 0.0419 - acc: 0.9928 - val_loss: 12.5255 - val_acc: 0.0424\n",
            "Epoch 30/50\n",
            "102/102 [==============================] - 20s 193ms/step - loss: 0.0327 - acc: 0.9932 - val_loss: 13.0856 - val_acc: 0.0436\n",
            "Epoch 31/50\n",
            "102/102 [==============================] - 20s 193ms/step - loss: 0.0439 - acc: 0.9940 - val_loss: 12.1981 - val_acc: 0.0461\n",
            "Epoch 32/50\n",
            "102/102 [==============================] - 20s 193ms/step - loss: 0.0380 - acc: 0.9952 - val_loss: 11.8664 - val_acc: 0.0442\n",
            "Epoch 33/50\n",
            "102/102 [==============================] - 20s 193ms/step - loss: 0.0348 - acc: 0.9948 - val_loss: 11.7569 - val_acc: 0.0467\n",
            "Epoch 34/50\n",
            "102/102 [==============================] - 20s 194ms/step - loss: 0.0338 - acc: 0.9960 - val_loss: 12.2311 - val_acc: 0.0430\n",
            "Epoch 35/50\n",
            "102/102 [==============================] - 20s 193ms/step - loss: 0.0405 - acc: 0.9949 - val_loss: 11.8861 - val_acc: 0.0442\n",
            "Epoch 36/50\n",
            "102/102 [==============================] - 20s 193ms/step - loss: 0.0350 - acc: 0.9968 - val_loss: 11.4906 - val_acc: 0.0381\n",
            "Epoch 37/50\n",
            "102/102 [==============================] - 20s 193ms/step - loss: 0.0339 - acc: 0.9963 - val_loss: 12.4353 - val_acc: 0.0442\n",
            "Epoch 38/50\n",
            "102/102 [==============================] - 20s 193ms/step - loss: 0.0360 - acc: 0.9949 - val_loss: 11.9175 - val_acc: 0.0436\n",
            "Epoch 39/50\n",
            "102/102 [==============================] - 20s 194ms/step - loss: 0.0321 - acc: 0.9954 - val_loss: 11.6919 - val_acc: 0.0424\n",
            "Epoch 40/50\n",
            "102/102 [==============================] - 20s 194ms/step - loss: 0.0306 - acc: 0.9968 - val_loss: 11.6613 - val_acc: 0.0381\n",
            "Epoch 41/50\n",
            "102/102 [==============================] - 20s 194ms/step - loss: 0.0285 - acc: 0.9957 - val_loss: 12.4841 - val_acc: 0.0418\n",
            "Epoch 42/50\n",
            "102/102 [==============================] - 20s 194ms/step - loss: 0.0263 - acc: 0.9975 - val_loss: 12.1451 - val_acc: 0.0399\n",
            "Epoch 43/50\n",
            "102/102 [==============================] - 20s 194ms/step - loss: 0.0299 - acc: 0.9965 - val_loss: 11.8270 - val_acc: 0.0442\n",
            "Epoch 44/50\n",
            "102/102 [==============================] - 20s 193ms/step - loss: 0.0210 - acc: 0.9974 - val_loss: 12.4947 - val_acc: 0.0424\n",
            "Epoch 45/50\n",
            "102/102 [==============================] - 20s 193ms/step - loss: 0.0275 - acc: 0.9963 - val_loss: 11.9147 - val_acc: 0.0399\n",
            "Epoch 46/50\n",
            "102/102 [==============================] - 20s 194ms/step - loss: 0.0265 - acc: 0.9980 - val_loss: 12.2101 - val_acc: 0.0498\n",
            "Epoch 47/50\n",
            "102/102 [==============================] - 20s 193ms/step - loss: 0.0306 - acc: 0.9966 - val_loss: 11.3241 - val_acc: 0.0412\n",
            "Epoch 48/50\n",
            "102/102 [==============================] - 20s 193ms/step - loss: 0.0253 - acc: 0.9972 - val_loss: 11.3241 - val_acc: 0.0393\n",
            "Epoch 49/50\n",
            "102/102 [==============================] - 20s 194ms/step - loss: 0.0224 - acc: 0.9975 - val_loss: 11.7656 - val_acc: 0.0473\n",
            "Epoch 50/50\n",
            "102/102 [==============================] - 20s 193ms/step - loss: 0.0222 - acc: 0.9982 - val_loss: 11.8311 - val_acc: 0.0405\n"
          ]
        }
      ]
    },
    {
      "cell_type": "code",
      "metadata": {
        "colab": {
          "base_uri": "https://localhost:8080/",
          "height": 513
        },
        "id": "lTGG_0DV_z1d",
        "outputId": "e1aff7f5-1709-4b7e-c94e-cd400c754ca0"
      },
      "source": [
        "acc = history.history['acc']\n",
        "val_acc = history.history['val_acc']\n",
        "\n",
        "loss = history.history['loss']\n",
        "val_loss = history.history['val_loss']\n",
        "\n",
        "plt.figure(figsize=(8, 8))\n",
        "plt.subplot(2, 1, 1)\n",
        "plt.plot(acc, label='Training Accuracy')\n",
        "plt.plot(val_acc, label='Validation Accuracy')\n",
        "plt.legend(loc='lower right')\n",
        "plt.ylabel('Accuracy')\n",
        "plt.title('Training and Validation Accuracy')\n",
        "\n",
        "plt.subplot(2, 1, 2)\n",
        "plt.plot(loss, label='Training Loss')\n",
        "plt.plot(val_loss, label='Validation Loss')\n",
        "plt.legend(loc='upper right')\n",
        "plt.ylabel('Cross Entropy')\n",
        "plt.title('Training and Validation Loss')\n",
        "plt.xlabel('epoch')\n",
        "plt.show()"
      ],
      "execution_count": 50,
      "outputs": [
        {
          "output_type": "display_data",
          "data": {
            "image/png": "[encoded data removed]",
            "text/plain": [
              "<Figure size 576x576 with 2 Axes>"
            ]
          },
          "metadata": {
            "needs_background": "light"
          }
        }
      ]
    },
    {
      "cell_type": "code",
      "metadata": {
        "colab": {
          "base_uri": "https://localhost:8080/"
        },
        "id": "NNIWusduEJnl",
        "outputId": "e840947f-8a59-4a6d-8f6f-b1c53285aa80"
      },
      "source": [
        "from tensorflow.keras import layers\n",
        "from tensorflow.keras import models\n",
        "from tensorflow.keras import optimizers\n",
        "from keras.layers import Dropout\n",
        "from tensorflow.keras.regularizers import l2\n",
        "numclasses= len(CLASS_NAMES)\n",
        "factor = 0.0001\n",
        "model = models.Sequential()\n",
        "model.add(layers.Conv2D(32, (3, 3),kernel_regularizer=l2(factor), activation='relu', input_shape=(IMAGE_SIZE, IMAGE_SIZE, 3)))\n",
        "model.add(layers.MaxPooling2D((2, 2)))\n",
        "model.add(layers.Conv2D(64, (3, 3),kernel_regularizer=l2(factor), activation='relu'))\n",
        "model.add(layers.MaxPooling2D((2, 2)))\n",
        "model.add(layers.Conv2D(128, (3, 3),kernel_regularizer=l2(factor), activation='relu'))\n",
        "model.add(layers.MaxPooling2D((2, 2)))\n",
        "model.add(Dropout(0.2))\n",
        "model.add(layers.Conv2D(128, (3, 3),kernel_regularizer=l2(factor), activation='relu'))\n",
        "model.add(layers.MaxPooling2D((2, 2)))\n",
        "model.add(Dropout(0.2))\n",
        "model.add(layers.Flatten())\n",
        "model.add(layers.Dense(512,kernel_regularizer=l2(factor), activation='relu'))\n",
        "model.add(layers.Dense(numclasses, activation='softmax'))\n",
        "\n",
        "model.compile(loss='categorical_crossentropy',\n",
        "              optimizer=optimizers.RMSprop(lr=1e-4),\n",
        "              metrics=['acc'])"
      ],
      "execution_count": 52,
      "outputs": [
        {
          "output_type": "stream",
          "name": "stderr",
          "text": [
            "/usr/local/lib/python3.7/dist-packages/keras/optimizer_v2/optimizer_v2.py:356: UserWarning: The `lr` argument is deprecated, use `learning_rate` instead.\n",
            "  \"The `lr` argument is deprecated, use `learning_rate` instead.\")\n"
          ]
        }
      ]
    },
    {
      "cell_type": "code",
      "metadata": {
        "colab": {
          "base_uri": "https://localhost:8080/"
        },
        "id": "TidjgA4fFzp1",
        "outputId": "0c4f0b3c-f078-4fa3-b5e2-83efed7ce6c9"
      },
      "source": [
        "history = model.fit(\n",
        "      train_dataset,\n",
        "      #steps_per_epoch=steps_per_epoch,\n",
        "      epochs=50,\n",
        "      validation_data=val_dataset)\n",
        "      #validation_steps=val_steps_per_epoch)"
      ],
      "execution_count": 53,
      "outputs": [
        {
          "output_type": "stream",
          "name": "stdout",
          "text": [
            "Epoch 1/50\n",
            "102/102 [==============================] - 22s 200ms/step - loss: 9.1801 - acc: 0.0035 - val_loss: 5.4061 - val_acc: 0.0080\n",
            "Epoch 2/50\n",
            "102/102 [==============================] - 20s 198ms/step - loss: 5.4231 - acc: 0.0069 - val_loss: 5.3865 - val_acc: 0.0129\n",
            "Epoch 3/50\n",
            "102/102 [==============================] - 20s 197ms/step - loss: 5.3569 - acc: 0.0124 - val_loss: 5.3115 - val_acc: 0.0166\n",
            "Epoch 4/50\n",
            "102/102 [==============================] - 20s 197ms/step - loss: 5.2110 - acc: 0.0242 - val_loss: 5.2445 - val_acc: 0.0240\n",
            "Epoch 5/50\n",
            "102/102 [==============================] - 20s 197ms/step - loss: 4.9342 - acc: 0.0542 - val_loss: 5.2425 - val_acc: 0.0233\n",
            "Epoch 6/50\n",
            "102/102 [==============================] - 20s 197ms/step - loss: 4.4221 - acc: 0.1122 - val_loss: 5.2906 - val_acc: 0.0338\n",
            "Epoch 7/50\n",
            "102/102 [==============================] - 20s 198ms/step - loss: 3.6150 - acc: 0.2466 - val_loss: 5.6539 - val_acc: 0.0369\n",
            "Epoch 8/50\n",
            "102/102 [==============================] - 20s 197ms/step - loss: 2.6584 - acc: 0.4147 - val_loss: 6.0622 - val_acc: 0.0430\n",
            "Epoch 9/50\n",
            "102/102 [==============================] - 20s 197ms/step - loss: 1.6703 - acc: 0.6166 - val_loss: 6.4785 - val_acc: 0.0375\n",
            "Epoch 10/50\n",
            "102/102 [==============================] - 20s 197ms/step - loss: 0.9398 - acc: 0.7813 - val_loss: 7.3910 - val_acc: 0.0405\n",
            "Epoch 11/50\n",
            "102/102 [==============================] - 20s 198ms/step - loss: 0.5923 - acc: 0.8712 - val_loss: 7.9099 - val_acc: 0.0424\n",
            "Epoch 12/50\n",
            "102/102 [==============================] - 20s 197ms/step - loss: 0.3872 - acc: 0.9230 - val_loss: 8.4978 - val_acc: 0.0455\n",
            "Epoch 13/50\n",
            "102/102 [==============================] - 20s 198ms/step - loss: 0.2756 - acc: 0.9501 - val_loss: 8.7240 - val_acc: 0.0455\n",
            "Epoch 14/50\n",
            "102/102 [==============================] - 20s 198ms/step - loss: 0.2447 - acc: 0.9610 - val_loss: 8.6246 - val_acc: 0.0485\n",
            "Epoch 15/50\n",
            "102/102 [==============================] - 20s 197ms/step - loss: 0.2149 - acc: 0.9679 - val_loss: 8.9209 - val_acc: 0.0393\n",
            "Epoch 16/50\n",
            "102/102 [==============================] - 20s 197ms/step - loss: 0.1788 - acc: 0.9793 - val_loss: 9.1884 - val_acc: 0.0442\n",
            "Epoch 17/50\n",
            "102/102 [==============================] - 20s 198ms/step - loss: 0.1637 - acc: 0.9827 - val_loss: 9.7372 - val_acc: 0.0436\n",
            "Epoch 18/50\n",
            "102/102 [==============================] - 20s 197ms/step - loss: 0.1713 - acc: 0.9805 - val_loss: 10.0568 - val_acc: 0.0498\n",
            "Epoch 19/50\n",
            "102/102 [==============================] - 20s 198ms/step - loss: 0.1520 - acc: 0.9850 - val_loss: 9.4172 - val_acc: 0.0375\n",
            "Epoch 20/50\n",
            "102/102 [==============================] - 20s 198ms/step - loss: 0.1551 - acc: 0.9848 - val_loss: 10.1092 - val_acc: 0.0399\n",
            "Epoch 21/50\n",
            "102/102 [==============================] - 20s 198ms/step - loss: 0.1475 - acc: 0.9866 - val_loss: 9.7925 - val_acc: 0.0473\n",
            "Epoch 22/50\n",
            "102/102 [==============================] - 20s 197ms/step - loss: 0.1437 - acc: 0.9882 - val_loss: 9.7862 - val_acc: 0.0467\n",
            "Epoch 23/50\n",
            "102/102 [==============================] - 20s 198ms/step - loss: 0.1437 - acc: 0.9886 - val_loss: 9.9127 - val_acc: 0.0455\n",
            "Epoch 24/50\n",
            "102/102 [==============================] - 20s 198ms/step - loss: 0.1345 - acc: 0.9916 - val_loss: 9.9923 - val_acc: 0.0461\n",
            "Epoch 25/50\n",
            "102/102 [==============================] - 20s 197ms/step - loss: 0.1298 - acc: 0.9937 - val_loss: 10.2609 - val_acc: 0.0455\n",
            "Epoch 26/50\n",
            "102/102 [==============================] - 20s 198ms/step - loss: 0.1307 - acc: 0.9926 - val_loss: 10.1348 - val_acc: 0.0455\n",
            "Epoch 27/50\n",
            "102/102 [==============================] - 20s 198ms/step - loss: 0.1224 - acc: 0.9932 - val_loss: 10.3081 - val_acc: 0.0350\n",
            "Epoch 28/50\n",
            "102/102 [==============================] - 20s 197ms/step - loss: 0.1316 - acc: 0.9939 - val_loss: 10.1269 - val_acc: 0.0448\n",
            "Epoch 29/50\n",
            "102/102 [==============================] - 20s 197ms/step - loss: 0.1302 - acc: 0.9909 - val_loss: 9.7419 - val_acc: 0.0430\n",
            "Epoch 30/50\n",
            "102/102 [==============================] - 20s 198ms/step - loss: 0.1238 - acc: 0.9942 - val_loss: 10.2026 - val_acc: 0.0473\n",
            "Epoch 31/50\n",
            "102/102 [==============================] - 20s 197ms/step - loss: 0.1262 - acc: 0.9934 - val_loss: 9.9970 - val_acc: 0.0418\n",
            "Epoch 32/50\n",
            "102/102 [==============================] - 20s 198ms/step - loss: 0.1242 - acc: 0.9949 - val_loss: 9.9985 - val_acc: 0.0387\n",
            "Epoch 33/50\n",
            "102/102 [==============================] - 20s 198ms/step - loss: 0.1212 - acc: 0.9931 - val_loss: 10.5415 - val_acc: 0.0405\n",
            "Epoch 34/50\n",
            "102/102 [==============================] - 20s 198ms/step - loss: 0.1153 - acc: 0.9946 - val_loss: 10.3138 - val_acc: 0.0498\n",
            "Epoch 35/50\n",
            "102/102 [==============================] - 20s 197ms/step - loss: 0.1183 - acc: 0.9948 - val_loss: 10.5555 - val_acc: 0.0479\n",
            "Epoch 36/50\n",
            "102/102 [==============================] - 20s 198ms/step - loss: 0.1158 - acc: 0.9949 - val_loss: 10.5719 - val_acc: 0.0479\n",
            "Epoch 37/50\n",
            "102/102 [==============================] - 20s 197ms/step - loss: 0.1168 - acc: 0.9965 - val_loss: 10.5780 - val_acc: 0.0430\n",
            "Epoch 38/50\n",
            "102/102 [==============================] - 20s 198ms/step - loss: 0.1157 - acc: 0.9968 - val_loss: 10.1378 - val_acc: 0.0442\n",
            "Epoch 39/50\n",
            "102/102 [==============================] - 20s 197ms/step - loss: 0.1090 - acc: 0.9959 - val_loss: 10.5317 - val_acc: 0.0498\n",
            "Epoch 40/50\n",
            "102/102 [==============================] - 20s 197ms/step - loss: 0.1066 - acc: 0.9960 - val_loss: 10.5226 - val_acc: 0.0522\n",
            "Epoch 41/50\n",
            "102/102 [==============================] - 20s 198ms/step - loss: 0.1146 - acc: 0.9951 - val_loss: 10.0969 - val_acc: 0.0461\n",
            "Epoch 42/50\n",
            "102/102 [==============================] - 20s 198ms/step - loss: 0.1064 - acc: 0.9971 - val_loss: 10.5041 - val_acc: 0.0467\n",
            "Epoch 43/50\n",
            "102/102 [==============================] - 20s 197ms/step - loss: 0.1015 - acc: 0.9971 - val_loss: 10.6643 - val_acc: 0.0522\n",
            "Epoch 44/50\n",
            "102/102 [==============================] - 20s 198ms/step - loss: 0.1059 - acc: 0.9955 - val_loss: 9.7779 - val_acc: 0.0442\n",
            "Epoch 45/50\n",
            "102/102 [==============================] - 20s 197ms/step - loss: 0.1030 - acc: 0.9971 - val_loss: 10.1701 - val_acc: 0.0541\n",
            "Epoch 46/50\n",
            "102/102 [==============================] - 20s 198ms/step - loss: 0.1045 - acc: 0.9962 - val_loss: 9.5913 - val_acc: 0.0498\n",
            "Epoch 47/50\n",
            "102/102 [==============================] - 20s 198ms/step - loss: 0.1073 - acc: 0.9965 - val_loss: 9.5830 - val_acc: 0.0485\n",
            "Epoch 48/50\n",
            "102/102 [==============================] - 20s 198ms/step - loss: 0.0996 - acc: 0.9968 - val_loss: 9.6684 - val_acc: 0.0534\n",
            "Epoch 49/50\n",
            "102/102 [==============================] - 20s 198ms/step - loss: 0.0969 - acc: 0.9968 - val_loss: 9.3027 - val_acc: 0.0461\n",
            "Epoch 50/50\n",
            "102/102 [==============================] - 20s 197ms/step - loss: 0.1007 - acc: 0.9969 - val_loss: 9.5123 - val_acc: 0.0479\n"
          ]
        }
      ]
    },
    {
      "cell_type": "code",
      "metadata": {
        "colab": {
          "base_uri": "https://localhost:8080/",
          "height": 513
        },
        "id": "vdPneT3CJk4d",
        "outputId": "65825b78-3cad-492c-8cc4-3e9f76595500"
      },
      "source": [
        "acc = history.history['acc']\n",
        "val_acc = history.history['val_acc']\n",
        "\n",
        "loss = history.history['loss']\n",
        "val_loss = history.history['val_loss']\n",
        "\n",
        "plt.figure(figsize=(8, 8))\n",
        "plt.subplot(2, 1, 1)\n",
        "plt.plot(acc, label='Training Accuracy')\n",
        "plt.plot(val_acc, label='Validation Accuracy')\n",
        "plt.legend(loc='lower right')\n",
        "plt.ylabel('Accuracy')\n",
        "plt.title('Training and Validation Accuracy')\n",
        "\n",
        "plt.subplot(2, 1, 2)\n",
        "plt.plot(loss, label='Training Loss')\n",
        "plt.plot(val_loss, label='Validation Loss')\n",
        "plt.legend(loc='upper right')\n",
        "plt.ylabel('Cross Entropy')\n",
        "plt.title('Training and Validation Loss')\n",
        "plt.xlabel('epoch')\n",
        "plt.show()"
      ],
      "execution_count": 54,
      "outputs": [
        {
          "output_type": "display_data",
          "data": {
            "image/png": "[encoded data removed]",
            "text/plain": [
              "<Figure size 576x576 with 2 Axes>"
            ]
          },
          "metadata": {
            "needs_background": "light"
          }
        }
      ]
    }
  ]
}